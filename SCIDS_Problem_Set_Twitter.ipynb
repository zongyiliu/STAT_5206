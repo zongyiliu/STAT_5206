{
  "cells": [
    {
      "cell_type": "markdown",
      "metadata": {
        "id": "rocRqGYOuLw-"
      },
      "source": [
        "# Twitter data wrangling practice\n",
        "\n",
        "__author__: Yongchan Kwon\n",
        "\n",
        "__email__: yk3012@columbia.edu\n",
        "\n",
        "In this notebook, we use the [Twitter](https://developer.twitter.com/en/products/twitter-api) dataset to practice preprocessing hierarchical data to tabular data.\n",
        "\n"
      ]
    },
    {
      "cell_type": "code",
      "execution_count": 1,
      "metadata": {
        "id": "Fdv3_uGF-FS-"
      },
      "outputs": [],
      "source": [
        "# # To load datasets from your google drive account, this command should be executed.\n",
        "# from google.colab import drive\n",
        "# drive.mount('/content/drive')"
      ]
    },
    {
      "cell_type": "markdown",
      "metadata": {
        "id": "Ygw2I9rV5mtg"
      },
      "source": [
        "- Read `singapore_twitter.json` file using `json.load()`, storing it to a variable called `twitter_data`.\n",
        " - Check the correct input argument of `json.load()`.\n",
        " - Check the type of `json.load()` output the number of tweets.\n",
        " - Print first tweet.\n",
        " - Check the type of the first tweet"
      ]
    },
    {
      "cell_type": "code",
      "execution_count": 4,
      "metadata": {
        "id": "7FmYSSSJWRgH"
      },
      "outputs": [],
      "source": [
        "import pandas as pd\n",
        "import numpy as np\n",
        "import json"
      ]
    },
    {
      "cell_type": "code",
      "execution_count": 9,
      "metadata": {},
      "outputs": [],
      "source": [
        "with open('singapore_twitter.json', 'r', encoding='utf-8') as file:\n",
        "    twitter_data = json.load(file)"
      ]
    },
    {
      "cell_type": "code",
      "execution_count": 10,
      "metadata": {},
      "outputs": [
        {
          "name": "stdout",
          "output_type": "stream",
          "text": [
            "Number of tweets: 13740\n"
          ]
        }
      ],
      "source": [
        "print(\"Number of tweets:\", len(twitter_data))"
      ]
    },
    {
      "cell_type": "code",
      "execution_count": 14,
      "metadata": {},
      "outputs": [
        {
          "name": "stdout",
          "output_type": "stream",
          "text": [
            "First tweet: {'referenced_tweets': [{'type': 'replied_to', 'id': '1491816184240480284'}], 'id': '1491816347117916162', 'in_reply_to_user_id': '204970988', 'reply_settings': 'everyone', 'entities': {'mentions': [{'start': 0, 'end': 12, 'username': 'QuantoQuant', 'id': '4332053537'}], 'annotations': [{'start': 241, 'end': 249, 'probability': 0.8172, 'type': 'Place', 'normalized_text': 'singapore'}]}, 'text': \"@QuantoQuant I don't think we should have death penalty for dealers, but at the very least I think they should be deported if they are here illegally. Alternatively, I think they should go to prison for involuntary manslaughter. \\n\\nI believe singapore has only had a few dozen put to death.\", 'source': 'Twitter Web App', 'created_at': '2022-02-10T16:48:28.000Z', 'public_metrics': {'retweet_count': 0, 'reply_count': 1, 'like_count': 2, 'quote_count': 0}, 'author_id': '204970988'}\n",
            "Type of first tweet: <class 'dict'>\n"
          ]
        }
      ],
      "source": [
        "# Check if the data is a list and not empty\n",
        "if isinstance(twitter_data, list) and len(twitter_data) > 0:\n",
        "    # Get the first tweet\n",
        "    first_tweet = twitter_data[0]\n",
        "\n",
        "    # Print the first tweet\n",
        "    print(\"First tweet:\", first_tweet)\n",
        "\n",
        "    # Check the type of the first tweet\n",
        "    print(\"Type of first tweet:\", type(first_tweet))\n",
        "else:\n",
        "    print(\"twitter_data is not a list or it is empty.\")"
      ]
    },
    {
      "cell_type": "markdown",
      "metadata": {
        "id": "GOXr0QozYqMw"
      },
      "source": [
        "- Convert the data type of `twitter_data` to `pandas.DataFrame`.\n",
        "  - what are interesting observations?\n",
        "  - print data type for each column."
      ]
    },
    {
      "cell_type": "code",
      "execution_count": 17,
      "metadata": {},
      "outputs": [
        {
          "name": "stdout",
          "output_type": "stream",
          "text": [
            "                                   referenced_tweets                   id  \\\n",
            "0  [{'type': 'replied_to', 'id': '149181618424048...  1491816347117916162   \n",
            "1  [{'type': 'replied_to', 'id': '149178069710676...  1491813901842984962   \n",
            "2  [{'type': 'retweeted', 'id': '1491257043856277...  1491604001720516608   \n",
            "3  [{'type': 'retweeted', 'id': '1491822338874224...  1491822838290034693   \n",
            "4  [{'type': 'retweeted', 'id': '1491821009225359...  1491822830316503043   \n",
            "\n",
            "  in_reply_to_user_id reply_settings  \\\n",
            "0           204970988       everyone   \n",
            "1          1382974668       everyone   \n",
            "2                 NaN       everyone   \n",
            "3                 NaN       everyone   \n",
            "4                 NaN       everyone   \n",
            "\n",
            "                                            entities  \\\n",
            "0  {'mentions': [{'start': 0, 'end': 12, 'usernam...   \n",
            "1  {'mentions': [{'start': 0, 'end': 11, 'usernam...   \n",
            "2  {'mentions': [{'start': 3, 'end': 19, 'usernam...   \n",
            "3  {'urls': [{'start': 101, 'end': 124, 'url': 'h...   \n",
            "4  {'mentions': [{'start': 3, 'end': 16, 'usernam...   \n",
            "\n",
            "                                                text               source  \\\n",
            "0  @QuantoQuant I don't think we should have deat...      Twitter Web App   \n",
            "1  @IonaItalia It’s also a question of enforcing ...     Twitter for iPad   \n",
            "2  RT @QuantumQubitGuy: BEWARE! Unlike, Singapore...  Twitter for Android   \n",
            "3  RT @chartdataITZY: iTunes Top Songs Singapore ...      Twitter Web App   \n",
            "4  RT @VIVIZ_Charts: VIVIZ Regions with the highe...  Twitter for Android   \n",
            "\n",
            "                 created_at  \\\n",
            "0  2022-02-10T16:48:28.000Z   \n",
            "1  2022-02-10T16:38:45.000Z   \n",
            "2  2022-02-10T02:44:41.000Z   \n",
            "3  2022-02-10T17:14:16.000Z   \n",
            "4  2022-02-10T17:14:14.000Z   \n",
            "\n",
            "                                      public_metrics            author_id  \\\n",
            "0  {'retweet_count': 0, 'reply_count': 1, 'like_c...            204970988   \n",
            "1  {'retweet_count': 0, 'reply_count': 1, 'like_c...  1459920226385027086   \n",
            "2  {'retweet_count': 2, 'reply_count': 0, 'like_c...   840441380652556288   \n",
            "3  {'retweet_count': 51, 'reply_count': 0, 'like_...  1388529837833392132   \n",
            "4  {'retweet_count': 190, 'reply_count': 0, 'like...  1197328734417588224   \n",
            "\n",
            "   geo withheld  \n",
            "0  NaN      NaN  \n",
            "1  NaN      NaN  \n",
            "2  NaN      NaN  \n",
            "3  NaN      NaN  \n",
            "4  NaN      NaN  \n",
            "referenced_tweets      object\n",
            "id                     object\n",
            "in_reply_to_user_id    object\n",
            "reply_settings         object\n",
            "entities               object\n",
            "text                   object\n",
            "source                 object\n",
            "created_at             object\n",
            "public_metrics         object\n",
            "author_id              object\n",
            "geo                    object\n",
            "withheld               object\n",
            "dtype: object\n"
          ]
        }
      ],
      "source": [
        "# Convert to DataFrame\n",
        "df = pd.DataFrame(twitter_data)\n",
        "\n",
        "# Show the first few rows\n",
        "print(df.head())\n",
        "\n",
        "# Print data types of each column\n",
        "print(df.dtypes)"
      ]
    },
    {
      "cell_type": "markdown",
      "metadata": {
        "id": "TKDrtfMCZs9l"
      },
      "source": [
        "Twitter dataset has a **hierarchical structure**. For each tweet,\n",
        "  - `referenced_tweets`\n",
        "    - `type`\n",
        "    - `id`\n",
        "  - `id`\n",
        "  - `entities`\n",
        "    - `mentions`\n",
        "        - `start`\n",
        "        - `end`\n",
        "        - ...\n",
        "    - `annotations`\n",
        "  - and more ..."
      ]
    },
    {
      "cell_type": "markdown",
      "metadata": {
        "id": "sRM4DZXzwJwm"
      },
      "source": [
        "### Let's wrangle data\n",
        "\n",
        "- Please wrangle the raw hierarchical dataset so we can look at the number of tweets/retweets for each entity over the different hours in the day.\n",
        "  - Create a `pandas.DataFrame` called `df_tweet`.\n",
        "  - Each row corrsponds a tweet or retweet.\n",
        "  - Make columns `id` and `author_id` from the dataset. Also, make a column `reply_count` using `reply_count` in `public_metrics` information.\n",
        "  - Make a column called `hour` using `created_at` information.\n",
        "   - For instance, `2022-02-10T16:38:45.000Z` --> `16`\n",
        "  - Make a column called `is_retweet` that indicates if it is a tweet or retweet. Hint: every retweet starts with `RT` in `text` information.\n"
      ]
    },
    {
      "cell_type": "markdown",
      "metadata": {
        "id": "eZQ1gp5awdxV"
      },
      "source": [
        "#### Data analysis\n",
        "  - How many samples are duplicated?"
      ]
    },
    {
      "cell_type": "code",
      "execution_count": null,
      "metadata": {
        "id": "w9VGqV2w1Jvn"
      },
      "outputs": [
        {
          "ename": "TypeError",
          "evalue": "unhashable type: 'list'",
          "output_type": "error",
          "traceback": [
            "\u001b[0;31m---------------------------------------------------------------------------\u001b[0m",
            "\u001b[0;31mTypeError\u001b[0m                                 Traceback (most recent call last)",
            "Cell \u001b[0;32mIn [19], line 1\u001b[0m\n\u001b[0;32m----> 1\u001b[0m num_duplicates \u001b[38;5;241m=\u001b[39m df\u001b[38;5;241m.\u001b[39mduplicated()\u001b[38;5;241m.\u001b[39msum()\n",
            "File \u001b[0;32m/Library/Frameworks/Python.framework/Versions/3.10/lib/python3.10/site-packages/pandas/core/frame.py:6706\u001b[0m, in \u001b[0;36mDataFrame.duplicated\u001b[0;34m(self, subset, keep)\u001b[0m\n\u001b[1;32m   6704\u001b[0m \u001b[38;5;28;01melse\u001b[39;00m:\n\u001b[1;32m   6705\u001b[0m     vals \u001b[38;5;241m=\u001b[39m (col\u001b[38;5;241m.\u001b[39mvalues \u001b[38;5;28;01mfor\u001b[39;00m name, col \u001b[38;5;129;01min\u001b[39;00m \u001b[38;5;28mself\u001b[39m\u001b[38;5;241m.\u001b[39mitems() \u001b[38;5;28;01mif\u001b[39;00m name \u001b[38;5;129;01min\u001b[39;00m subset)\n\u001b[0;32m-> 6706\u001b[0m     labels, shape \u001b[38;5;241m=\u001b[39m \u001b[38;5;28mmap\u001b[39m(\u001b[38;5;28mlist\u001b[39m, \u001b[38;5;28;43mzip\u001b[39;49m\u001b[43m(\u001b[49m\u001b[38;5;241;43m*\u001b[39;49m\u001b[38;5;28;43mmap\u001b[39;49m\u001b[43m(\u001b[49m\u001b[43mf\u001b[49m\u001b[43m,\u001b[49m\u001b[43m \u001b[49m\u001b[43mvals\u001b[49m\u001b[43m)\u001b[49m\u001b[43m)\u001b[49m)\n\u001b[1;32m   6708\u001b[0m     ids \u001b[38;5;241m=\u001b[39m get_group_index(\n\u001b[1;32m   6709\u001b[0m         labels,\n\u001b[1;32m   6710\u001b[0m         \u001b[38;5;66;03m# error: Argument 1 to \"tuple\" has incompatible type \"List[_T]\";\u001b[39;00m\n\u001b[0;32m   (...)\u001b[0m\n\u001b[1;32m   6714\u001b[0m         xnull\u001b[38;5;241m=\u001b[39m\u001b[38;5;28;01mFalse\u001b[39;00m,\n\u001b[1;32m   6715\u001b[0m     )\n\u001b[1;32m   6716\u001b[0m     result \u001b[38;5;241m=\u001b[39m \u001b[38;5;28mself\u001b[39m\u001b[38;5;241m.\u001b[39m_constructor_sliced(duplicated(ids, keep), index\u001b[38;5;241m=\u001b[39m\u001b[38;5;28mself\u001b[39m\u001b[38;5;241m.\u001b[39mindex)\n",
            "File \u001b[0;32m/Library/Frameworks/Python.framework/Versions/3.10/lib/python3.10/site-packages/pandas/core/frame.py:6674\u001b[0m, in \u001b[0;36mDataFrame.duplicated.<locals>.f\u001b[0;34m(vals)\u001b[0m\n\u001b[1;32m   6673\u001b[0m \u001b[38;5;28;01mdef\u001b[39;00m \u001b[38;5;21mf\u001b[39m(vals) \u001b[38;5;241m-\u001b[39m\u001b[38;5;241m>\u001b[39m \u001b[38;5;28mtuple\u001b[39m[np\u001b[38;5;241m.\u001b[39mndarray, \u001b[38;5;28mint\u001b[39m]:\n\u001b[0;32m-> 6674\u001b[0m     labels, shape \u001b[38;5;241m=\u001b[39m \u001b[43malgorithms\u001b[49m\u001b[38;5;241;43m.\u001b[39;49m\u001b[43mfactorize\u001b[49m\u001b[43m(\u001b[49m\u001b[43mvals\u001b[49m\u001b[43m,\u001b[49m\u001b[43m \u001b[49m\u001b[43msize_hint\u001b[49m\u001b[38;5;241;43m=\u001b[39;49m\u001b[38;5;28;43mlen\u001b[39;49m\u001b[43m(\u001b[49m\u001b[38;5;28;43mself\u001b[39;49m\u001b[43m)\u001b[49m\u001b[43m)\u001b[49m\n\u001b[1;32m   6675\u001b[0m     \u001b[38;5;28;01mreturn\u001b[39;00m labels\u001b[38;5;241m.\u001b[39mastype(\u001b[38;5;124m\"\u001b[39m\u001b[38;5;124mi8\u001b[39m\u001b[38;5;124m\"\u001b[39m, copy\u001b[38;5;241m=\u001b[39m\u001b[38;5;28;01mFalse\u001b[39;00m), \u001b[38;5;28mlen\u001b[39m(shape)\n",
            "File \u001b[0;32m/Library/Frameworks/Python.framework/Versions/3.10/lib/python3.10/site-packages/pandas/core/algorithms.py:795\u001b[0m, in \u001b[0;36mfactorize\u001b[0;34m(values, sort, use_na_sentinel, size_hint)\u001b[0m\n\u001b[1;32m    792\u001b[0m             \u001b[38;5;66;03m# Don't modify (potentially user-provided) array\u001b[39;00m\n\u001b[1;32m    793\u001b[0m             values \u001b[38;5;241m=\u001b[39m np\u001b[38;5;241m.\u001b[39mwhere(null_mask, na_value, values)\n\u001b[0;32m--> 795\u001b[0m     codes, uniques \u001b[38;5;241m=\u001b[39m \u001b[43mfactorize_array\u001b[49m\u001b[43m(\u001b[49m\n\u001b[1;32m    796\u001b[0m \u001b[43m        \u001b[49m\u001b[43mvalues\u001b[49m\u001b[43m,\u001b[49m\n\u001b[1;32m    797\u001b[0m \u001b[43m        \u001b[49m\u001b[43muse_na_sentinel\u001b[49m\u001b[38;5;241;43m=\u001b[39;49m\u001b[43muse_na_sentinel\u001b[49m\u001b[43m,\u001b[49m\n\u001b[1;32m    798\u001b[0m \u001b[43m        \u001b[49m\u001b[43msize_hint\u001b[49m\u001b[38;5;241;43m=\u001b[39;49m\u001b[43msize_hint\u001b[49m\u001b[43m,\u001b[49m\n\u001b[1;32m    799\u001b[0m \u001b[43m    \u001b[49m\u001b[43m)\u001b[49m\n\u001b[1;32m    801\u001b[0m \u001b[38;5;28;01mif\u001b[39;00m sort \u001b[38;5;129;01mand\u001b[39;00m \u001b[38;5;28mlen\u001b[39m(uniques) \u001b[38;5;241m>\u001b[39m \u001b[38;5;241m0\u001b[39m:\n\u001b[1;32m    802\u001b[0m     uniques, codes \u001b[38;5;241m=\u001b[39m safe_sort(\n\u001b[1;32m    803\u001b[0m         uniques,\n\u001b[1;32m    804\u001b[0m         codes,\n\u001b[0;32m   (...)\u001b[0m\n\u001b[1;32m    807\u001b[0m         verify\u001b[38;5;241m=\u001b[39m\u001b[38;5;28;01mFalse\u001b[39;00m,\n\u001b[1;32m    808\u001b[0m     )\n",
            "File \u001b[0;32m/Library/Frameworks/Python.framework/Versions/3.10/lib/python3.10/site-packages/pandas/core/algorithms.py:595\u001b[0m, in \u001b[0;36mfactorize_array\u001b[0;34m(values, use_na_sentinel, size_hint, na_value, mask)\u001b[0m\n\u001b[1;32m    592\u001b[0m hash_klass, values \u001b[38;5;241m=\u001b[39m _get_hashtable_algo(values)\n\u001b[1;32m    594\u001b[0m table \u001b[38;5;241m=\u001b[39m hash_klass(size_hint \u001b[38;5;129;01mor\u001b[39;00m \u001b[38;5;28mlen\u001b[39m(values))\n\u001b[0;32m--> 595\u001b[0m uniques, codes \u001b[38;5;241m=\u001b[39m \u001b[43mtable\u001b[49m\u001b[38;5;241;43m.\u001b[39;49m\u001b[43mfactorize\u001b[49m\u001b[43m(\u001b[49m\n\u001b[1;32m    596\u001b[0m \u001b[43m    \u001b[49m\u001b[43mvalues\u001b[49m\u001b[43m,\u001b[49m\n\u001b[1;32m    597\u001b[0m \u001b[43m    \u001b[49m\u001b[43mna_sentinel\u001b[49m\u001b[38;5;241;43m=\u001b[39;49m\u001b[38;5;241;43m-\u001b[39;49m\u001b[38;5;241;43m1\u001b[39;49m\u001b[43m,\u001b[49m\n\u001b[1;32m    598\u001b[0m \u001b[43m    \u001b[49m\u001b[43mna_value\u001b[49m\u001b[38;5;241;43m=\u001b[39;49m\u001b[43mna_value\u001b[49m\u001b[43m,\u001b[49m\n\u001b[1;32m    599\u001b[0m \u001b[43m    \u001b[49m\u001b[43mmask\u001b[49m\u001b[38;5;241;43m=\u001b[39;49m\u001b[43mmask\u001b[49m\u001b[43m,\u001b[49m\n\u001b[1;32m    600\u001b[0m \u001b[43m    \u001b[49m\u001b[43mignore_na\u001b[49m\u001b[38;5;241;43m=\u001b[39;49m\u001b[43muse_na_sentinel\u001b[49m\u001b[43m,\u001b[49m\n\u001b[1;32m    601\u001b[0m \u001b[43m\u001b[49m\u001b[43m)\u001b[49m\n\u001b[1;32m    603\u001b[0m \u001b[38;5;66;03m# re-cast e.g. i8->dt64/td64, uint8->bool\u001b[39;00m\n\u001b[1;32m    604\u001b[0m uniques \u001b[38;5;241m=\u001b[39m _reconstruct_data(uniques, original\u001b[38;5;241m.\u001b[39mdtype, original)\n",
            "File \u001b[0;32mpandas/_libs/hashtable_class_helper.pxi:7280\u001b[0m, in \u001b[0;36mpandas._libs.hashtable.PyObjectHashTable.factorize\u001b[0;34m()\u001b[0m\n",
            "File \u001b[0;32mpandas/_libs/hashtable_class_helper.pxi:7194\u001b[0m, in \u001b[0;36mpandas._libs.hashtable.PyObjectHashTable._unique\u001b[0;34m()\u001b[0m\n",
            "\u001b[0;31mTypeError\u001b[0m: unhashable type: 'list'"
          ]
        }
      ],
      "source": [
        "num_duplicates = df.duplicated().sum()\n",
        "\n",
        "所以弗騰堡 柏林 "
      ]
    },
    {
      "cell_type": "markdown",
      "metadata": {
        "id": "6B8DBRv_nNlH"
      },
      "source": [
        "- How many samples have at least one missing value?"
      ]
    },
    {
      "cell_type": "code",
      "execution_count": 2,
      "metadata": {
        "id": "M6M1Iw_vzB_9"
      },
      "outputs": [],
      "source": []
    },
    {
      "cell_type": "markdown",
      "metadata": {
        "id": "rqO7rrkknRMt"
      },
      "source": [
        "- What is the proportion of retweets?"
      ]
    },
    {
      "cell_type": "code",
      "execution_count": 2,
      "metadata": {
        "id": "887KJErdxJqI"
      },
      "outputs": [],
      "source": []
    },
    {
      "cell_type": "markdown",
      "metadata": {
        "id": "_CPQZa4GnVfz"
      },
      "source": [
        "- What is the proportion of users with only one post?"
      ]
    },
    {
      "cell_type": "code",
      "execution_count": 2,
      "metadata": {
        "id": "8EL_KISlxk_e"
      },
      "outputs": [],
      "source": []
    },
    {
      "cell_type": "markdown",
      "metadata": {
        "id": "b-_Zh7SnnZks"
      },
      "source": [
        "- What is the proportion of posts with zero reply?"
      ]
    },
    {
      "cell_type": "code",
      "execution_count": 2,
      "metadata": {
        "id": "_Ap9sJLGxufs"
      },
      "outputs": [],
      "source": []
    },
    {
      "cell_type": "code",
      "execution_count": 2,
      "metadata": {
        "id": "uAq89ESe3am1"
      },
      "outputs": [],
      "source": []
    },
    {
      "cell_type": "markdown",
      "metadata": {
        "id": "D_FhTQMZw0eO"
      },
      "source": [
        "- Plot a histogram of the number of posts by users.\n",
        " - For a pretty figure, consider a user with 5 or more posts.\n",
        " - Add informative x-label and y-label."
      ]
    },
    {
      "cell_type": "code",
      "execution_count": 2,
      "metadata": {
        "id": "qDjLkHtrxnBq"
      },
      "outputs": [],
      "source": []
    },
    {
      "cell_type": "code",
      "execution_count": 2,
      "metadata": {
        "id": "bI0m_qo63xDf"
      },
      "outputs": [],
      "source": []
    },
    {
      "cell_type": "code",
      "execution_count": 2,
      "metadata": {
        "id": "4N3asgb73xFH"
      },
      "outputs": [],
      "source": []
    },
    {
      "cell_type": "markdown",
      "metadata": {
        "id": "-xK9kI2u1nt3"
      },
      "source": [
        "- When do people post tweets/retweets? Plot a line such that\n",
        " - x-axis indicates 24 hours\n",
        " - y-axis indicates the number of posts"
      ]
    },
    {
      "cell_type": "code",
      "execution_count": 2,
      "metadata": {
        "id": "neCS6nDLBHeO"
      },
      "outputs": [],
      "source": []
    },
    {
      "cell_type": "code",
      "execution_count": 2,
      "metadata": {
        "id": "qUHRj5EA5lVu"
      },
      "outputs": [],
      "source": []
    },
    {
      "cell_type": "code",
      "execution_count": 2,
      "metadata": {
        "id": "Cv0qk6Mp5gwW"
      },
      "outputs": [],
      "source": []
    },
    {
      "cell_type": "code",
      "execution_count": 2,
      "metadata": {
        "id": "jTPkST_x5gye"
      },
      "outputs": [],
      "source": []
    },
    {
      "cell_type": "markdown",
      "metadata": {
        "id": "FhmOpkYP23RV"
      },
      "source": [
        "### Let's wrangle data 2\n",
        "\n",
        "**Connectivity on Twitter:** How connected are the tweeter users in our dataset? A connection here is defined as someone mentioning another user.\n",
        "\n",
        " - Create a `pandas.DataFrame` such that each row and column corresponds to a person. A row indicates an original poster and a column corresponds to users mentioned at least once by one of original posters.\n",
        "  - If a user mentioned by an original poster, then the corresponding value is 1\n",
        "  - Otherwise, 0.\n",
        "  - For each tweet, the `author_id` of the user mentioned is provided in `[entities]-[mentions]`.\n",
        "    - For instance,\n",
        "    ```\n",
        "    # twitter_data[51][\"entities\"][\"mentions\"] # 4 mentions\n",
        "    > [{'start': 0,\n",
        "  'end': 15,\n",
        "  'username': 'RajeshKumar_TT',\n",
        "  'id': '1268390945873149952'},\n",
        " {'start': 16, 'end': 26, 'username': 'elemelopq', 'id': '26522834'},\n",
        " {'start': 27, 'end': 40, 'username': 'Flying_Mallu', 'id': '95138568'},\n",
        " {'start': 41, 'end': 55, 'username': 'ShashiTharoor', 'id': '24705126'}]\n",
        "    ```\n",
        "    - For some tweets, `entities` does not exist.\n",
        "    ```\n",
        "    # twitter_data[25] # no entities\n",
        "    > {'text': 'Halsey tak nak buat Asia Tour ka? At least mai la Singapore/ Jakarta.',\n",
        " 'id': '1491822511125766171',\n",
        " 'created_at': '2022-02-10T17:12:58.000Z',\n",
        " 'public_metrics': {'retweet_count': 0,\n",
        "  'reply_count': 0,\n",
        "  'like_count': 0,\n",
        "  'quote_count': 0},\n",
        " 'source': 'Twitter for iPhone',\n",
        " 'author_id': '915159330',\n",
        " 'reply_settings': 'everyone'}\n",
        "    ```\n",
        "    - For some entities, `mentions` does not exist.\n",
        "    ```\n",
        "    # twitter_data[7][\"entities\"]\n",
        "    > {'hashtags': [{'start': 0, 'end': 6, 'tag': 'MBIOI'},\n",
        "  {'start': 39, 'end': 47, 'tag': 'Ironore'},\n",
        "  {'start': 83, 'end': 91, 'tag': 'Qingdao'}],\n",
        " 'annotations': [{'start': 213,\n",
        "   'end': 221,\n",
        "   'probability': 0.9565,\n",
        "   'type': 'Place',\n",
        "   'normalized_text': 'Singapore'}]}\n",
        "    ```"
      ]
    },
    {
      "cell_type": "code",
      "execution_count": 3,
      "metadata": {
        "colab": {
          "base_uri": "https://localhost:8080/"
        },
        "id": "EeDQiiX2_74Z",
        "outputId": "c11942fa-faee-4204-8804-ba232828b6d5"
      },
      "outputs": [
        {
          "data": {
            "text/plain": [
              "(dict_keys(['a1', 'a2', 'a3']), {'b1', 'b2', 'b3'})"
            ]
          },
          "execution_count": 3,
          "metadata": {},
          "output_type": "execute_result"
        }
      ],
      "source": [
        "'''\n",
        "Hint: Define a dictionary whose key is an author `id` and its associated value is a set of neighborhoods' ids.\n",
        "And create a zero data frame and put one to every (key, value) pair.\n",
        "'''\n",
        "tmp_dict={'a1': {'b1', 'b2'},\n",
        "          'a2': {'b2', 'b3'},\n",
        "          'a3': {'b3'}}\n",
        "\n",
        "authors=tmp_dict.keys()\n",
        "references = {n_id for key, value in tmp_dict.items() for n_id in value}\n",
        "authors, references"
      ]
    },
    {
      "cell_type": "code",
      "execution_count": 4,
      "metadata": {
        "colab": {
          "base_uri": "https://localhost:8080/",
          "height": 143
        },
        "id": "EVc-wchZz_qU",
        "outputId": "7ba01ec2-cf4d-4d60-c39e-2a9c2610e279"
      },
      "outputs": [
        {
          "data": {
            "text/html": [
              "\n",
              "  <div id=\"df-913acb12-9ff7-49b9-94e3-4c4143ee3fa8\" class=\"colab-df-container\">\n",
              "    <div>\n",
              "<style scoped>\n",
              "    .dataframe tbody tr th:only-of-type {\n",
              "        vertical-align: middle;\n",
              "    }\n",
              "\n",
              "    .dataframe tbody tr th {\n",
              "        vertical-align: top;\n",
              "    }\n",
              "\n",
              "    .dataframe thead th {\n",
              "        text-align: right;\n",
              "    }\n",
              "</style>\n",
              "<table border=\"1\" class=\"dataframe\">\n",
              "  <thead>\n",
              "    <tr style=\"text-align: right;\">\n",
              "      <th></th>\n",
              "      <th>b1</th>\n",
              "      <th>b2</th>\n",
              "      <th>b3</th>\n",
              "    </tr>\n",
              "  </thead>\n",
              "  <tbody>\n",
              "    <tr>\n",
              "      <th>a1</th>\n",
              "      <td>1</td>\n",
              "      <td>1</td>\n",
              "      <td>0</td>\n",
              "    </tr>\n",
              "    <tr>\n",
              "      <th>a2</th>\n",
              "      <td>0</td>\n",
              "      <td>1</td>\n",
              "      <td>1</td>\n",
              "    </tr>\n",
              "    <tr>\n",
              "      <th>a3</th>\n",
              "      <td>0</td>\n",
              "      <td>0</td>\n",
              "      <td>1</td>\n",
              "    </tr>\n",
              "  </tbody>\n",
              "</table>\n",
              "</div>\n",
              "    <div class=\"colab-df-buttons\">\n",
              "\n",
              "  <div class=\"colab-df-container\">\n",
              "    <button class=\"colab-df-convert\" onclick=\"convertToInteractive('df-913acb12-9ff7-49b9-94e3-4c4143ee3fa8')\"\n",
              "            title=\"Convert this dataframe to an interactive table.\"\n",
              "            style=\"display:none;\">\n",
              "\n",
              "  <svg xmlns=\"http://www.w3.org/2000/svg\" height=\"24px\" viewBox=\"0 -960 960 960\">\n",
              "    <path d=\"M120-120v-720h720v720H120Zm60-500h600v-160H180v160Zm220 220h160v-160H400v160Zm0 220h160v-160H400v160ZM180-400h160v-160H180v160Zm440 0h160v-160H620v160ZM180-180h160v-160H180v160Zm440 0h160v-160H620v160Z\"/>\n",
              "  </svg>\n",
              "    </button>\n",
              "\n",
              "  <style>\n",
              "    .colab-df-container {\n",
              "      display:flex;\n",
              "      gap: 12px;\n",
              "    }\n",
              "\n",
              "    .colab-df-convert {\n",
              "      background-color: #E8F0FE;\n",
              "      border: none;\n",
              "      border-radius: 50%;\n",
              "      cursor: pointer;\n",
              "      display: none;\n",
              "      fill: #1967D2;\n",
              "      height: 32px;\n",
              "      padding: 0 0 0 0;\n",
              "      width: 32px;\n",
              "    }\n",
              "\n",
              "    .colab-df-convert:hover {\n",
              "      background-color: #E2EBFA;\n",
              "      box-shadow: 0px 1px 2px rgba(60, 64, 67, 0.3), 0px 1px 3px 1px rgba(60, 64, 67, 0.15);\n",
              "      fill: #174EA6;\n",
              "    }\n",
              "\n",
              "    .colab-df-buttons div {\n",
              "      margin-bottom: 4px;\n",
              "    }\n",
              "\n",
              "    [theme=dark] .colab-df-convert {\n",
              "      background-color: #3B4455;\n",
              "      fill: #D2E3FC;\n",
              "    }\n",
              "\n",
              "    [theme=dark] .colab-df-convert:hover {\n",
              "      background-color: #434B5C;\n",
              "      box-shadow: 0px 1px 3px 1px rgba(0, 0, 0, 0.15);\n",
              "      filter: drop-shadow(0px 1px 2px rgba(0, 0, 0, 0.3));\n",
              "      fill: #FFFFFF;\n",
              "    }\n",
              "  </style>\n",
              "\n",
              "    <script>\n",
              "      const buttonEl =\n",
              "        document.querySelector('#df-913acb12-9ff7-49b9-94e3-4c4143ee3fa8 button.colab-df-convert');\n",
              "      buttonEl.style.display =\n",
              "        google.colab.kernel.accessAllowed ? 'block' : 'none';\n",
              "\n",
              "      async function convertToInteractive(key) {\n",
              "        const element = document.querySelector('#df-913acb12-9ff7-49b9-94e3-4c4143ee3fa8');\n",
              "        const dataTable =\n",
              "          await google.colab.kernel.invokeFunction('convertToInteractive',\n",
              "                                                    [key], {});\n",
              "        if (!dataTable) return;\n",
              "\n",
              "        const docLinkHtml = 'Like what you see? Visit the ' +\n",
              "          '<a target=\"_blank\" href=https://colab.research.google.com/notebooks/data_table.ipynb>data table notebook</a>'\n",
              "          + ' to learn more about interactive tables.';\n",
              "        element.innerHTML = '';\n",
              "        dataTable['output_type'] = 'display_data';\n",
              "        await google.colab.output.renderOutput(dataTable, element);\n",
              "        const docLink = document.createElement('div');\n",
              "        docLink.innerHTML = docLinkHtml;\n",
              "        element.appendChild(docLink);\n",
              "      }\n",
              "    </script>\n",
              "  </div>\n",
              "\n",
              "\n",
              "<div id=\"df-79d79c51-3e76-457b-ab84-0c3669c3b06f\">\n",
              "  <button class=\"colab-df-quickchart\" onclick=\"quickchart('df-79d79c51-3e76-457b-ab84-0c3669c3b06f')\"\n",
              "            title=\"Suggest charts.\"\n",
              "            style=\"display:none;\">\n",
              "\n",
              "<svg xmlns=\"http://www.w3.org/2000/svg\" height=\"24px\"viewBox=\"0 0 24 24\"\n",
              "     width=\"24px\">\n",
              "    <g>\n",
              "        <path d=\"M19 3H5c-1.1 0-2 .9-2 2v14c0 1.1.9 2 2 2h14c1.1 0 2-.9 2-2V5c0-1.1-.9-2-2-2zM9 17H7v-7h2v7zm4 0h-2V7h2v10zm4 0h-2v-4h2v4z\"/>\n",
              "    </g>\n",
              "</svg>\n",
              "  </button>\n",
              "\n",
              "<style>\n",
              "  .colab-df-quickchart {\n",
              "      --bg-color: #E8F0FE;\n",
              "      --fill-color: #1967D2;\n",
              "      --hover-bg-color: #E2EBFA;\n",
              "      --hover-fill-color: #174EA6;\n",
              "      --disabled-fill-color: #AAA;\n",
              "      --disabled-bg-color: #DDD;\n",
              "  }\n",
              "\n",
              "  [theme=dark] .colab-df-quickchart {\n",
              "      --bg-color: #3B4455;\n",
              "      --fill-color: #D2E3FC;\n",
              "      --hover-bg-color: #434B5C;\n",
              "      --hover-fill-color: #FFFFFF;\n",
              "      --disabled-bg-color: #3B4455;\n",
              "      --disabled-fill-color: #666;\n",
              "  }\n",
              "\n",
              "  .colab-df-quickchart {\n",
              "    background-color: var(--bg-color);\n",
              "    border: none;\n",
              "    border-radius: 50%;\n",
              "    cursor: pointer;\n",
              "    display: none;\n",
              "    fill: var(--fill-color);\n",
              "    height: 32px;\n",
              "    padding: 0;\n",
              "    width: 32px;\n",
              "  }\n",
              "\n",
              "  .colab-df-quickchart:hover {\n",
              "    background-color: var(--hover-bg-color);\n",
              "    box-shadow: 0 1px 2px rgba(60, 64, 67, 0.3), 0 1px 3px 1px rgba(60, 64, 67, 0.15);\n",
              "    fill: var(--button-hover-fill-color);\n",
              "  }\n",
              "\n",
              "  .colab-df-quickchart-complete:disabled,\n",
              "  .colab-df-quickchart-complete:disabled:hover {\n",
              "    background-color: var(--disabled-bg-color);\n",
              "    fill: var(--disabled-fill-color);\n",
              "    box-shadow: none;\n",
              "  }\n",
              "\n",
              "  .colab-df-spinner {\n",
              "    border: 2px solid var(--fill-color);\n",
              "    border-color: transparent;\n",
              "    border-bottom-color: var(--fill-color);\n",
              "    animation:\n",
              "      spin 1s steps(1) infinite;\n",
              "  }\n",
              "\n",
              "  @keyframes spin {\n",
              "    0% {\n",
              "      border-color: transparent;\n",
              "      border-bottom-color: var(--fill-color);\n",
              "      border-left-color: var(--fill-color);\n",
              "    }\n",
              "    20% {\n",
              "      border-color: transparent;\n",
              "      border-left-color: var(--fill-color);\n",
              "      border-top-color: var(--fill-color);\n",
              "    }\n",
              "    30% {\n",
              "      border-color: transparent;\n",
              "      border-left-color: var(--fill-color);\n",
              "      border-top-color: var(--fill-color);\n",
              "      border-right-color: var(--fill-color);\n",
              "    }\n",
              "    40% {\n",
              "      border-color: transparent;\n",
              "      border-right-color: var(--fill-color);\n",
              "      border-top-color: var(--fill-color);\n",
              "    }\n",
              "    60% {\n",
              "      border-color: transparent;\n",
              "      border-right-color: var(--fill-color);\n",
              "    }\n",
              "    80% {\n",
              "      border-color: transparent;\n",
              "      border-right-color: var(--fill-color);\n",
              "      border-bottom-color: var(--fill-color);\n",
              "    }\n",
              "    90% {\n",
              "      border-color: transparent;\n",
              "      border-bottom-color: var(--fill-color);\n",
              "    }\n",
              "  }\n",
              "</style>\n",
              "\n",
              "  <script>\n",
              "    async function quickchart(key) {\n",
              "      const quickchartButtonEl =\n",
              "        document.querySelector('#' + key + ' button');\n",
              "      quickchartButtonEl.disabled = true;  // To prevent multiple clicks.\n",
              "      quickchartButtonEl.classList.add('colab-df-spinner');\n",
              "      try {\n",
              "        const charts = await google.colab.kernel.invokeFunction(\n",
              "            'suggestCharts', [key], {});\n",
              "      } catch (error) {\n",
              "        console.error('Error during call to suggestCharts:', error);\n",
              "      }\n",
              "      quickchartButtonEl.classList.remove('colab-df-spinner');\n",
              "      quickchartButtonEl.classList.add('colab-df-quickchart-complete');\n",
              "    }\n",
              "    (() => {\n",
              "      let quickchartButtonEl =\n",
              "        document.querySelector('#df-79d79c51-3e76-457b-ab84-0c3669c3b06f button');\n",
              "      quickchartButtonEl.style.display =\n",
              "        google.colab.kernel.accessAllowed ? 'block' : 'none';\n",
              "    })();\n",
              "  </script>\n",
              "</div>\n",
              "    </div>\n",
              "  </div>\n"
            ],
            "text/plain": [
              "    b1  b2  b3\n",
              "a1   1   1   0\n",
              "a2   0   1   1\n",
              "a3   0   0   1"
            ]
          },
          "execution_count": 4,
          "metadata": {},
          "output_type": "execute_result"
        }
      ],
      "source": [
        "df = pd.DataFrame(0, index=list(authors), columns=list(references))\n",
        "for a in tmp_dict.keys():\n",
        "  for b in tmp_dict[a]:\n",
        "    df.loc[a,b]=1\n",
        "df"
      ]
    },
    {
      "cell_type": "code",
      "execution_count": 5,
      "metadata": {
        "colab": {
          "base_uri": "https://localhost:8080/"
        },
        "id": "PG3CMK88Z2ha",
        "outputId": "97207db7-fa08-4d0f-8f8a-511760e470a9"
      },
      "outputs": [
        {
          "data": {
            "text/plain": [
              "(dict_keys(['a1', 'a2', 'a3']), {'b1', 'b2', 'b3'})"
            ]
          },
          "execution_count": 5,
          "metadata": {},
          "output_type": "execute_result"
        }
      ],
      "source": [
        "authors, references"
      ]
    },
    {
      "cell_type": "code",
      "execution_count": 5,
      "metadata": {
        "id": "VL49wCRQ2ArT"
      },
      "outputs": [],
      "source": []
    },
    {
      "cell_type": "code",
      "execution_count": 5,
      "metadata": {
        "id": "rDtnCiza6NlO"
      },
      "outputs": [],
      "source": []
    },
    {
      "cell_type": "markdown",
      "metadata": {
        "id": "kc6Lvg5qT_lC"
      },
      "source": [
        "### Regular expression\n",
        "\n",
        "- Print every post that mention `machine learing`.\n",
        " - A single space can be replaced with the underscore (`machine_learning`) or the hyphen (`machine-learning`).\n",
        " - The `machine` and `learning` can start with the capital letter. For instance, `MachineLearning`, `Machine_Learning`, `Machine-Learning`, or `Machine learning`, ...\n"
      ]
    },
    {
      "cell_type": "code",
      "execution_count": 6,
      "metadata": {
        "id": "02dKeBc6zTHo"
      },
      "outputs": [],
      "source": [
        "import re"
      ]
    },
    {
      "cell_type": "code",
      "execution_count": 6,
      "metadata": {
        "id": "ER5XdRsmunIa"
      },
      "outputs": [],
      "source": []
    },
    {
      "cell_type": "code",
      "execution_count": 6,
      "metadata": {
        "id": "a_H5jlHuxhps"
      },
      "outputs": [],
      "source": []
    },
    {
      "cell_type": "markdown",
      "metadata": {
        "id": "rFisBBOdxNLi"
      },
      "source": [
        "- Some posts mention machine learning with `\"ML\"`\n",
        "```\n",
        "twitter_data[9131]['text']\n",
        ">\"RT @DisruptiveAsean: New Singapore @Rackspace Technology Report Finds AI/ML Technologies Increasingly Mission-Critical, but Full Benefits H…\"\n",
        "```\n",
        "- Now create a list of posts that mention machine learning. Consider a `\"ML\"` post together.\n"
      ]
    },
    {
      "cell_type": "code",
      "execution_count": 6,
      "metadata": {
        "id": "k2UPMAOu_5YA"
      },
      "outputs": [],
      "source": []
    },
    {
      "cell_type": "code",
      "execution_count": 6,
      "metadata": {
        "id": "DNIpK6A7jsQM"
      },
      "outputs": [],
      "source": []
    }
  ],
  "metadata": {
    "colab": {
      "provenance": []
    },
    "kernelspec": {
      "display_name": "Python 3",
      "name": "python3"
    },
    "language_info": {
      "codemirror_mode": {
        "name": "ipython",
        "version": 3
      },
      "file_extension": ".py",
      "mimetype": "text/x-python",
      "name": "python",
      "nbconvert_exporter": "python",
      "pygments_lexer": "ipython3",
      "version": "3.10.4"
    }
  },
  "nbformat": 4,
  "nbformat_minor": 0
}
